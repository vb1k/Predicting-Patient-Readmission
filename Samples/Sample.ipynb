{
 "cells": [
  {
   "cell_type": "code",
   "execution_count": 2,
   "id": "b8ab6218-fba5-4481-aaed-a69a33d5d7b3",
   "metadata": {},
   "outputs": [
    {
     "ename": "NameError",
     "evalue": "name 'INSTALLED_APPS' is not defined",
     "output_type": "error",
     "traceback": [
      "\u001b[1;31m---------------------------------------------------------------------------\u001b[0m",
      "\u001b[1;31mNameError\u001b[0m                                 Traceback (most recent call last)",
      "Cell \u001b[1;32mIn[2], line 2\u001b[0m\n\u001b[0;32m      1\u001b[0m \u001b[38;5;66;03m#Installed Appllications\u001b[39;00m\n\u001b[1;32m----> 2\u001b[0m \u001b[43mINSTALLED_APPS\u001b[49m \u001b[38;5;241m+\u001b[39m\u001b[38;5;241m=\u001b[39m [\n\u001b[0;32m      3\u001b[0m     \u001b[38;5;124m'\u001b[39m\u001b[38;5;124msocial_django\u001b[39m\u001b[38;5;124m'\u001b[39m,\n\u001b[0;32m      4\u001b[0m ]\n\u001b[0;32m      6\u001b[0m \u001b[38;5;66;03m#Authentication Backend\u001b[39;00m\n\u001b[0;32m      7\u001b[0m AUTHENTICATION_BACKENDS \u001b[38;5;241m=\u001b[39m [\n\u001b[0;32m      8\u001b[0m     \u001b[38;5;124m'\u001b[39m\u001b[38;5;124msocial_core.backends.facebook.FacebookOAuth2\u001b[39m\u001b[38;5;124m'\u001b[39m,  \n\u001b[0;32m      9\u001b[0m     \u001b[38;5;124m'\u001b[39m\u001b[38;5;124mdjango.contrib.auth.backends.ModelBackend\u001b[39m\u001b[38;5;124m'\u001b[39m,\n\u001b[0;32m     10\u001b[0m ]\n",
      "\u001b[1;31mNameError\u001b[0m: name 'INSTALLED_APPS' is not defined"
     ]
    }
   ],
   "source": [
    "#Installed Appllications\n",
    "INSTALLED_APPS += [\n",
    "    'social_django',\n",
    "]\n",
    "\n",
    "#Authentication Backend\n",
    "AUTHENTICATION_BACKENDS = [\n",
    "    'social_core.backends.facebook.FacebookOAuth2',  \n",
    "    'django.contrib.auth.backends.ModelBackend',\n",
    "]\n",
    "\n",
    "#Facebook Credentials\n",
    "SOCIAL_AUTH_FACEBOOK_KEY = '<1236819327589234>'\n",
    "SOCIAL_AUTH_FACEBOOK_SECRET = '<48a3d3b52d90834702c180dd528b0b98>'\n",
    "SOCIAL_AUTH_FACEBOOK_SCOPE = ['email']  # Permissions you need, e.g., email, public_profile\n",
    "SOCIAL_AUTH_LOGIN_REDIRECT_URL = '/dashboard/'  # Where to redirect after successful login\n",
    "SOCIAL_AUTH_LOGIN_ERROR_URL = '/login-error/'   # Error redirection\n",
    "\n",
    "#Django URL's\n",
    "from django.urls import path, include\n",
    "\n",
    "urlpatterns = [\n",
    "    # Other URLs\n",
    "    path('auth/', include('social_django.urls', namespace='social')),\n",
    "]\n",
    "\n",
    "# urls.py\n",
    "from django.views.generic import TemplateView\n",
    "\n",
    "urlpatterns += [\n",
    "    path('privacy-policy/', TemplateView.as_view(template_name='privacy_policy.html'), name='privacy_policy'),\n",
    "]\n",
    "\n",
    "# views.py\n",
    "from django.http import JsonResponse\n",
    "from django.contrib.auth.models import User\n",
    "\n",
    "def data_deletion(request):\n",
    "    # Check if Facebook provides a user_id in the request\n",
    "    user_id = request.GET.get('user_id')\n",
    "    \n",
    "    if user_id:\n",
    "        try:\n",
    "            # Find and delete the user with the associated social_auth entry\n",
    "            user = User.objects.get(social_auth__uid=user_id)\n",
    "            user.delete()\n",
    "            return JsonResponse({\"status\": \"success\", \"message\": \"User data deleted successfully.\"})\n",
    "        except User.DoesNotExist:\n",
    "            return JsonResponse({\"status\": \"error\", \"message\": \"User not found.\"}, status=404)\n",
    "    else:\n",
    "        return JsonResponse({\"status\": \"error\", \"message\": \"User ID not provided.\"}, status=400)\n",
    "\n",
    "\n",
    "# urls.py\n",
    "from django.urls import path\n",
    "from .views import data_deletion\n",
    "\n",
    "urlpatterns += [\n",
    "    path('facebook/data-deletion/', data_deletion, name='data_deletion'),\n",
    "]\n",
    "\n",
    "#Template for Login\n",
    "<a href=\"{% url 'social:begin' 'facebook' %}\">Login with Facebook</a>\n",
    "\n",
    "#Handling User Data\n",
    "def dashboard(request):\n",
    "    user = request.user\n",
    "    social_user = user.social_auth.get(provider='facebook')\n",
    "    extra_data = social_user.extra_data\n",
    "    return render(request, 'dashboard.html', {'extra_data': extra_data})\n"
   ]
  },
  {
   "cell_type": "code",
   "execution_count": null,
   "id": "dacd5066-732a-4c80-a01e-36ff0ebf095e",
   "metadata": {},
   "outputs": [],
   "source": []
  }
 ],
 "metadata": {
  "kernelspec": {
   "display_name": "Python 3 (ipykernel)",
   "language": "python",
   "name": "python3"
  },
  "language_info": {
   "codemirror_mode": {
    "name": "ipython",
    "version": 3
   },
   "file_extension": ".py",
   "mimetype": "text/x-python",
   "name": "python",
   "nbconvert_exporter": "python",
   "pygments_lexer": "ipython3",
   "version": "3.12.5"
  }
 },
 "nbformat": 4,
 "nbformat_minor": 5
}
